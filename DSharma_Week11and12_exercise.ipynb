{
 "cells": [
  {
   "cell_type": "code",
   "execution_count": 1,
   "id": "c2416f88-5c8e-4b4b-a217-395b91042411",
   "metadata": {},
   "outputs": [],
   "source": [
    "# Name Dipika Sharma\n",
    "# DSC 540 T302 Data Preparation\n",
    "# Week 11 and 12 Exercise"
   ]
  },
  {
   "cell_type": "markdown",
   "id": "540198ec-6406-4f64-a9c5-5a241ede0bcd",
   "metadata": {},
   "source": [
    "## Activity 11"
   ]
  },
  {
   "cell_type": "markdown",
   "id": "14d5c2f3-660e-425f-8f68-8fcdfce55315",
   "metadata": {},
   "source": [
    "### 1. Connect to petsDB and check whether the connection has been successful."
   ]
  },
  {
   "cell_type": "code",
   "execution_count": 2,
   "id": "8e65483f-298b-434e-9687-5c9b470f83b4",
   "metadata": {},
   "outputs": [],
   "source": [
    "import sqlite3"
   ]
  },
  {
   "cell_type": "code",
   "execution_count": 3,
   "id": "66744c0d-ec89-48b3-8dcf-e655246103a6",
   "metadata": {},
   "outputs": [],
   "source": [
    "# Creating connection to petsdb database\n",
    "conn = sqlite3.connect(\"petsdb\")"
   ]
  },
  {
   "cell_type": "code",
   "execution_count": 4,
   "id": "cb7d8abe-1174-49bd-8206-7fdb5e6efe73",
   "metadata": {},
   "outputs": [],
   "source": [
    "# Defning function to see if connection to sqlite database is successful or not\n",
    "# This function will return true for successful connetion.\n",
    "def is_opened(conn):\n",
    "    try:\n",
    "        conn.execute(\"SELECT * FROM persons LIMIT 1\")\n",
    "        return True\n",
    "    except sqlite3.ProgrammingError as e:\n",
    "        print(\"Connection closed {}\".format(e))\n",
    "        return False"
   ]
  },
  {
   "cell_type": "code",
   "execution_count": 5,
   "id": "b4bf0107-1d0e-4efc-8a11-8b0ee0ce335b",
   "metadata": {},
   "outputs": [
    {
     "name": "stdout",
     "output_type": "stream",
     "text": [
      "True\n"
     ]
    }
   ],
   "source": [
    "# Lets check connection to sqlite database petsdb\n",
    "print(is_opened(conn))"
   ]
  },
  {
   "cell_type": "code",
   "execution_count": 6,
   "id": "da057d24-8a07-45ba-be21-081014272705",
   "metadata": {},
   "outputs": [],
   "source": [
    "# Closing the connection to Petsdb database.\n",
    "conn.close()"
   ]
  },
  {
   "cell_type": "code",
   "execution_count": 7,
   "id": "1378789b-bb2a-4c5b-ad5b-01b06db29e12",
   "metadata": {},
   "outputs": [
    {
     "name": "stdout",
     "output_type": "stream",
     "text": [
      "Connection closed Cannot operate on a closed database.\n",
      "False\n"
     ]
    }
   ],
   "source": [
    "# Lets check the connection again after closing it.\n",
    "print(is_opened(conn))"
   ]
  },
  {
   "cell_type": "markdown",
   "id": "3a4b1dab-96b1-4b11-a958-f5793009c4f3",
   "metadata": {},
   "source": [
    "#### As we can see from above, it will display 'False' for closed database and 'True' for successful connection to sqlite database."
   ]
  },
  {
   "cell_type": "markdown",
   "id": "28dace32-50c0-42fd-9357-bf0dfb428f55",
   "metadata": {},
   "source": [
    "### 2. Find the different age groups in the persons database."
   ]
  },
  {
   "cell_type": "code",
   "execution_count": 8,
   "id": "b2e2c09e-d418-4aeb-ad68-fb90505b7c44",
   "metadata": {},
   "outputs": [],
   "source": [
    "# Connecting to petsdb database.\n",
    "\n",
    "conn = sqlite3.connect(\"petsdb\")"
   ]
  },
  {
   "cell_type": "code",
   "execution_count": 9,
   "id": "2cc0f3f0-06d2-474e-aa2f-138212530a6b",
   "metadata": {},
   "outputs": [],
   "source": [
    "# Creating cursor to execute queries.\n",
    "c = conn.cursor()"
   ]
  },
  {
   "cell_type": "code",
   "execution_count": 10,
   "id": "3ecb7341-099f-4b06-8896-22576f9e1eb4",
   "metadata": {},
   "outputs": [
    {
     "name": "stdout",
     "output_type": "stream",
     "text": [
      "Aged 5 - Total People: 2\n",
      "Aged 6 - Total People: 1\n",
      "Aged 7 - Total People: 1\n",
      "Aged 8 - Total People: 3\n",
      "Aged 9 - Total People: 1\n",
      "Aged 11 - Total People: 2\n",
      "Aged 12 - Total People: 3\n",
      "Aged 13 - Total People: 1\n",
      "Aged 14 - Total People: 4\n",
      "Aged 16 - Total People: 2\n",
      "Aged 17 - Total People: 2\n",
      "Aged 18 - Total People: 3\n",
      "Aged 19 - Total People: 1\n",
      "Aged 22 - Total People: 3\n",
      "Aged 23 - Total People: 2\n",
      "Aged 24 - Total People: 3\n",
      "Aged 25 - Total People: 2\n",
      "Aged 27 - Total People: 1\n",
      "Aged 30 - Total People: 1\n",
      "Aged 31 - Total People: 3\n",
      "Aged 32 - Total People: 1\n",
      "Aged 33 - Total People: 1\n",
      "Aged 34 - Total People: 2\n",
      "Aged 35 - Total People: 3\n",
      "Aged 36 - Total People: 3\n",
      "Aged 37 - Total People: 1\n",
      "Aged 39 - Total People: 2\n",
      "Aged 40 - Total People: 1\n",
      "Aged 42 - Total People: 1\n",
      "Aged 44 - Total People: 2\n",
      "Aged 48 - Total People: 2\n",
      "Aged 49 - Total People: 1\n",
      "Aged 50 - Total People: 1\n",
      "Aged 51 - Total People: 2\n",
      "Aged 52 - Total People: 2\n",
      "Aged 53 - Total People: 2\n",
      "Aged 54 - Total People: 2\n",
      "Aged 58 - Total People: 1\n",
      "Aged 59 - Total People: 1\n",
      "Aged 60 - Total People: 1\n",
      "Aged 61 - Total People: 1\n",
      "Aged 62 - Total People: 2\n",
      "Aged 63 - Total People: 1\n",
      "Aged 65 - Total People: 2\n",
      "Aged 66 - Total People: 2\n",
      "Aged 67 - Total People: 1\n",
      "Aged 68 - Total People: 3\n",
      "Aged 69 - Total People: 1\n",
      "Aged 70 - Total People: 1\n",
      "Aged 71 - Total People: 4\n",
      "Aged 72 - Total People: 1\n",
      "Aged 73 - Total People: 5\n",
      "Aged 74 - Total People: 3\n"
     ]
    }
   ],
   "source": [
    "# Using execute function of cursor to execute query to display different age groups in persons table.\n",
    "\n",
    "for count_ppl, age in c.execute(\"SELECT count(*), age FROM persons GROUP BY age\"):\n",
    "    print(\"Aged {} - Total People: {}\".format(age, count_ppl))"
   ]
  },
  {
   "cell_type": "markdown",
   "id": "1618b5c0-78cc-4fdf-a846-514ae48c9aeb",
   "metadata": {},
   "source": [
    "### 3. Find the age group that has the maximum number of people."
   ]
  },
  {
   "cell_type": "code",
   "execution_count": 11,
   "id": "dd9f9caa-f79c-419e-8fb5-f1e07d4588f3",
   "metadata": {},
   "outputs": [
    {
     "name": "stdout",
     "output_type": "stream",
     "text": [
      "Age group 73 has maximum number of people, count is 5\n"
     ]
    }
   ],
   "source": [
    "# Lets count the people by agegroup and then order it t show age group with maximum people\n",
    "\n",
    "for count_ppl, age in c.execute(\"SELECT count(*), age FROM persons GROUP BY age ORDER BY count(*) DESC\"):\n",
    "    print(\"Age group {} has maximum number of people, count is {}\".format(age, count_ppl))\n",
    "    break"
   ]
  },
  {
   "cell_type": "markdown",
   "id": "7b12fd81-d6fb-42d5-afbf-34afa5eecbf6",
   "metadata": {},
   "source": [
    "### 4. Find the people who do not have a last name."
   ]
  },
  {
   "cell_type": "code",
   "execution_count": 12,
   "id": "b19f876d-dbaa-44cf-84de-14fb3d1c48c6",
   "metadata": {},
   "outputs": [
    {
     "name": "stdout",
     "output_type": "stream",
     "text": [
      "People who do not have last name are: 60\n"
     ]
    }
   ],
   "source": [
    "# Lets count the people without last name in persons table.\n",
    "for count in c.execute(\"SELECT count(*) FROM (SELECT first_name FROM persons where last_name is null)\"):\n",
    "    print(\"People who do not have last name are: {}\".format(count[0]))"
   ]
  },
  {
   "cell_type": "markdown",
   "id": "1f31b467-a3fc-42ba-a48c-342ac24f0775",
   "metadata": {},
   "source": [
    "### 5. Find out how many people have more than one pet."
   ]
  },
  {
   "cell_type": "code",
   "execution_count": 13,
   "id": "1ebf19b9-e266-4579-b601-3bc7f4e7be0e",
   "metadata": {},
   "outputs": [
    {
     "name": "stdout",
     "output_type": "stream",
     "text": [
      "There are 43 people with more than one pets\n"
     ]
    }
   ],
   "source": [
    "# Store all the people in res which have more then one pet\n",
    "\n",
    "res = c.execute(\"SELECT count(*) FROM (SELECT count(owner_id) FROM pets GROUP BY owner_id HAVING count(owner_id) >1)\")\n",
    "\n",
    "for row in res:\n",
    "    print(\"There are {} people with more than one pets\".format(row[0]))"
   ]
  },
  {
   "cell_type": "markdown",
   "id": "8b5f4265-6dac-493d-ac2f-b4b6fa0e8810",
   "metadata": {},
   "source": [
    "### 6. Find out how many pets have received treatment."
   ]
  },
  {
   "cell_type": "code",
   "execution_count": 14,
   "id": "09eb89d1-b0eb-4b87-88a3-717294a8815d",
   "metadata": {},
   "outputs": [
    {
     "name": "stdout",
     "output_type": "stream",
     "text": [
      "36 pets have received the treatment\n"
     ]
    }
   ],
   "source": [
    "# Lets count the pets which have received the treatment.\n",
    "\n",
    "res = c.execute(\"SELECT count(*) FROM pets WHERE treatment_done=1\")\n",
    "for row in res:\n",
    "    print(\"{} pets have received the treatment\".format(row[0]))"
   ]
  },
  {
   "cell_type": "markdown",
   "id": "a3dde980-1967-4ca4-adf9-f47c904e3dcc",
   "metadata": {},
   "source": [
    "### 7. Find out how many pets have received treatment and the type of pet is known."
   ]
  },
  {
   "cell_type": "code",
   "execution_count": 15,
   "id": "54be9bed-9377-46e7-a887-f4f02d4c2539",
   "metadata": {},
   "outputs": [
    {
     "name": "stdout",
     "output_type": "stream",
     "text": [
      "For Pet type 1.0, 16 pets received treatment\n"
     ]
    }
   ],
   "source": [
    "for petType, count in c.execute(\"SELECT pet_type, count(*) FROM pets WHERE treatment_done=1 AND pet_type IS NOT null\"):\n",
    "    print(\"For Pet type {}, {} pets received treatment\".format(petType, count))"
   ]
  },
  {
   "cell_type": "markdown",
   "id": "1feae404-5e38-4595-ab97-8f26ca0fb969",
   "metadata": {},
   "source": [
    "### 8. Find out how many pets are from the city called east port."
   ]
  },
  {
   "cell_type": "code",
   "execution_count": 16,
   "id": "43771a63-43e7-4757-beaf-5a8783a0ee22",
   "metadata": {},
   "outputs": [
    {
     "name": "stdout",
     "output_type": "stream",
     "text": [
      "We have 49 pets from the city called east port\n"
     ]
    }
   ],
   "source": [
    "# Since we need owners location so we joing pets and person table\n",
    "\n",
    "res = c.execute(\"SELECT count(*) FROM pets JOIN persons ON pets.owner_id = persons.id WHERE persons.city='east port'\")\n",
    "for row in res:\n",
    "    print(\"We have {} pets from the city called east port\".format(row[0]))"
   ]
  },
  {
   "cell_type": "markdown",
   "id": "465aec03-39c4-4a78-aaff-7e35a82a0cb2",
   "metadata": {},
   "source": [
    "### 9. Find out how many pets are from the city called east port and who received a treatment."
   ]
  },
  {
   "cell_type": "code",
   "execution_count": 17,
   "id": "109fe9d5-a92a-448e-85f7-b289a481ec2c",
   "metadata": {},
   "outputs": [
    {
     "name": "stdout",
     "output_type": "stream",
     "text": [
      "There are 11 pets from city east port who have received the treatment\n"
     ]
    }
   ],
   "source": [
    "# Joining the person and pets table to get pets counts.\n",
    "res = c.execute(\"SELECT count(*) FROM pets JOIN persons ON pets.owner_id = persons.id WHERE persons.city='east port' AND pets.treatment_done=1\")\n",
    "for row in res:\n",
    "    print(\"There are {} pets from city east port who have received the treatment\".format(row[0]))"
   ]
  },
  {
   "cell_type": "code",
   "execution_count": 19,
   "id": "e2388a7c-1394-4186-9756-b7d600d38401",
   "metadata": {},
   "outputs": [],
   "source": [
    "# Closing the connection to Petsdb database.\n",
    "conn.close()"
   ]
  },
  {
   "cell_type": "code",
   "execution_count": null,
   "id": "9238eceb-5318-4861-b4b1-aa392ecd7f5a",
   "metadata": {},
   "outputs": [],
   "source": []
  }
 ],
 "metadata": {
  "kernelspec": {
   "display_name": "Python 3 (ipykernel)",
   "language": "python",
   "name": "python3"
  },
  "language_info": {
   "codemirror_mode": {
    "name": "ipython",
    "version": 3
   },
   "file_extension": ".py",
   "mimetype": "text/x-python",
   "name": "python",
   "nbconvert_exporter": "python",
   "pygments_lexer": "ipython3",
   "version": "3.9.7"
  }
 },
 "nbformat": 4,
 "nbformat_minor": 5
}
